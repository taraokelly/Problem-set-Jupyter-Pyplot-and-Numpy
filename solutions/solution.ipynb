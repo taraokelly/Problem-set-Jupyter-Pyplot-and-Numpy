{
 "cells": [
  {
   "cell_type": "markdown",
   "metadata": {},
   "source": [
    "# Problem-set-Jupyter-Pyplot-and-Numpy"
   ]
  },
  {
   "cell_type": "markdown",
   "metadata": {},
   "source": [
    "## Write a note about the data set"
   ]
  },
  {
   "cell_type": "markdown",
   "metadata": {},
   "source": [
    "Fisher's Iris Data Set is a well known data set that has become a common test case in machine learning. Each row in the data set is comprised of four numeric values for petal length, petal width, sepal length and sepal width. The row also contains the type of iris flower (one of three: Iris setosa, Iris versicolor, or Iris virginica).\n",
    "\n",
    "According to Lichman, M. [1], <br>> *\"One class is linearly separable from the other 2; the latter are NOT linearly separable from each other\".*\n",
    "\n",
    "Types are clustered together and can be analysed to distinguish or predict the type of iris flower by it's measurements (petal length, petal width, sepal length and sepal width)[2]. \n",
    "\n",
    "**References:**\n",
    "\n",
    "[1] Lichman, M. (2013). UCI Machine Learning Repository [http://archive.ics.uci.edu/ml]. Irvine, CA: University of California, School of Information and Computer Science.\n",
    "\n",
    "[2] Joseph True, Content Data Scientist (2015). IMB Watson Analytics [www.ibm.com/communities/analytics/watson-analytics-blog/watson-analytics-use-case-the-iris-data-set/]."
   ]
  },
  {
   "cell_type": "markdown",
   "metadata": {},
   "source": [
    "## Get and load the data"
   ]
  },
  {
   "cell_type": "code",
   "execution_count": 10,
   "metadata": {},
   "outputs": [],
   "source": [
    "import numpy as np\n",
    "\n",
    "iris_data = np.genfromtxt('../data/IRIS.csv', delimiter=',', usecols=(0,1,2,3,4), unpack=True, dtype=None)"
   ]
  },
  {
   "cell_type": "code",
   "execution_count": 11,
   "metadata": {},
   "outputs": [
    {
     "data": {
      "text/plain": [
       "array([( 5.1,  3.5,  1.4,  0.2, b'setosa'),\n",
       "       ( 4.9,  3. ,  1.4,  0.2, b'setosa'),\n",
       "       ( 4.7,  3.2,  1.3,  0.2, b'setosa'),\n",
       "       ( 4.6,  3.1,  1.5,  0.2, b'setosa'),\n",
       "       ( 5. ,  3.6,  1.4,  0.2, b'setosa'),\n",
       "       ( 5.4,  3.9,  1.7,  0.4, b'setosa'),\n",
       "       ( 4.6,  3.4,  1.4,  0.3, b'setosa'),\n",
       "       ( 5. ,  3.4,  1.5,  0.2, b'setosa'),\n",
       "       ( 4.4,  2.9,  1.4,  0.2, b'setosa'),\n",
       "       ( 4.9,  3.1,  1.5,  0.1, b'setosa'),\n",
       "       ( 5.4,  3.7,  1.5,  0.2, b'setosa'),\n",
       "       ( 4.8,  3.4,  1.6,  0.2, b'setosa'),\n",
       "       ( 4.8,  3. ,  1.4,  0.1, b'setosa'),\n",
       "       ( 4.3,  3. ,  1.1,  0.1, b'setosa'),\n",
       "       ( 5.8,  4. ,  1.2,  0.2, b'setosa'),\n",
       "       ( 5.7,  4.4,  1.5,  0.4, b'setosa'),\n",
       "       ( 5.4,  3.9,  1.3,  0.4, b'setosa'),\n",
       "       ( 5.1,  3.5,  1.4,  0.3, b'setosa'),\n",
       "       ( 5.7,  3.8,  1.7,  0.3, b'setosa'),\n",
       "       ( 5.1,  3.8,  1.5,  0.3, b'setosa'),\n",
       "       ( 5.4,  3.4,  1.7,  0.2, b'setosa'),\n",
       "       ( 5.1,  3.7,  1.5,  0.4, b'setosa'),\n",
       "       ( 4.6,  3.6,  1. ,  0.2, b'setosa'),\n",
       "       ( 5.1,  3.3,  1.7,  0.5, b'setosa'),\n",
       "       ( 4.8,  3.4,  1.9,  0.2, b'setosa'),\n",
       "       ( 5. ,  3. ,  1.6,  0.2, b'setosa'),\n",
       "       ( 5. ,  3.4,  1.6,  0.4, b'setosa'),\n",
       "       ( 5.2,  3.5,  1.5,  0.2, b'setosa'),\n",
       "       ( 5.2,  3.4,  1.4,  0.2, b'setosa'),\n",
       "       ( 4.7,  3.2,  1.6,  0.2, b'setosa'),\n",
       "       ( 4.8,  3.1,  1.6,  0.2, b'setosa'),\n",
       "       ( 5.4,  3.4,  1.5,  0.4, b'setosa'),\n",
       "       ( 7. ,  3.2,  4.7,  1.4, b'versicolor'),\n",
       "       ( 6.4,  3.2,  4.5,  1.5, b'versicolor'),\n",
       "       ( 6.9,  3.1,  4.9,  1.5, b'versicolor'),\n",
       "       ( 5.5,  2.3,  4. ,  1.3, b'versicolor'),\n",
       "       ( 6.5,  2.8,  4.6,  1.5, b'versicolor'),\n",
       "       ( 5.7,  2.8,  4.5,  1.3, b'versicolor'),\n",
       "       ( 6.3,  3.3,  4.7,  1.6, b'versicolor'),\n",
       "       ( 4.9,  2.4,  3.3,  1. , b'versicolor'),\n",
       "       ( 6.6,  2.9,  4.6,  1.3, b'versicolor'),\n",
       "       ( 5.2,  2.7,  3.9,  1.4, b'versicolor'),\n",
       "       ( 5. ,  2. ,  3.5,  1. , b'versicolor'),\n",
       "       ( 5.9,  3. ,  4.2,  1.5, b'versicolor'),\n",
       "       ( 6. ,  2.2,  4. ,  1. , b'versicolor'),\n",
       "       ( 6.1,  2.9,  4.7,  1.4, b'versicolor'),\n",
       "       ( 5.6,  2.9,  3.6,  1.3, b'versicolor'),\n",
       "       ( 6.7,  3.1,  4.4,  1.4, b'versicolor'),\n",
       "       ( 5.6,  3. ,  4.5,  1.5, b'versicolor'),\n",
       "       ( 5.8,  2.7,  4.1,  1. , b'versicolor'),\n",
       "       ( 6.2,  2.2,  4.5,  1.5, b'versicolor'),\n",
       "       ( 5.6,  2.5,  3.9,  1.1, b'versicolor'),\n",
       "       ( 5.9,  3.2,  4.8,  1.8, b'versicolor'),\n",
       "       ( 6.1,  2.8,  4. ,  1.3, b'versicolor'),\n",
       "       ( 6.3,  2.5,  4.9,  1.5, b'versicolor'),\n",
       "       ( 6.1,  2.8,  4.7,  1.2, b'versicolor'),\n",
       "       ( 6.4,  2.9,  4.3,  1.3, b'versicolor'),\n",
       "       ( 6.6,  3. ,  4.4,  1.4, b'versicolor'),\n",
       "       ( 6.8,  2.8,  4.8,  1.4, b'versicolor'),\n",
       "       ( 6.7,  3. ,  5. ,  1.7, b'versicolor'),\n",
       "       ( 6. ,  2.9,  4.5,  1.5, b'versicolor'),\n",
       "       ( 5.7,  2.6,  3.5,  1. , b'versicolor'),\n",
       "       ( 5.5,  2.4,  3.8,  1.1, b'versicolor'),\n",
       "       ( 5.5,  2.4,  3.7,  1. , b'versicolor'),\n",
       "       ( 5.8,  2.7,  3.9,  1.2, b'versicolor'),\n",
       "       ( 6. ,  2.7,  5.1,  1.6, b'versicolor'),\n",
       "       ( 6.3,  3.3,  6. ,  2.5, b'virginica'),\n",
       "       ( 5.8,  2.7,  5.1,  1.9, b'virginica'),\n",
       "       ( 7.1,  3. ,  5.9,  2.1, b'virginica'),\n",
       "       ( 6.3,  2.9,  5.6,  1.8, b'virginica'),\n",
       "       ( 6.5,  3. ,  5.8,  2.2, b'virginica'),\n",
       "       ( 7.6,  3. ,  6.6,  2.1, b'virginica'),\n",
       "       ( 4.9,  2.5,  4.5,  1.7, b'virginica'),\n",
       "       ( 7.3,  2.9,  6.3,  1.8, b'virginica'),\n",
       "       ( 6.7,  2.5,  5.8,  1.8, b'virginica'),\n",
       "       ( 7.2,  3.6,  6.1,  2.5, b'virginica'),\n",
       "       ( 6.5,  3.2,  5.1,  2. , b'virginica'),\n",
       "       ( 6.4,  2.7,  5.3,  1.9, b'virginica'),\n",
       "       ( 6.8,  3. ,  5.5,  2.1, b'virginica'),\n",
       "       ( 5.7,  2.5,  5. ,  2. , b'virginica'),\n",
       "       ( 5.8,  2.8,  5.1,  2.4, b'virginica'),\n",
       "       ( 6.4,  3.2,  5.3,  2.3, b'virginica'),\n",
       "       ( 6.5,  3. ,  5.5,  1.8, b'virginica'),\n",
       "       ( 7.7,  3.8,  6.7,  2.2, b'virginica'),\n",
       "       ( 7.7,  2.6,  6.9,  2.3, b'virginica'),\n",
       "       ( 6. ,  2.2,  5. ,  1.5, b'virginica'),\n",
       "       ( 6.9,  3.2,  5.7,  2.3, b'virginica'),\n",
       "       ( 5.6,  2.8,  4.9,  2. , b'virginica'),\n",
       "       ( 7.7,  2.8,  6.7,  2. , b'virginica'),\n",
       "       ( 6.3,  2.7,  4.9,  1.8, b'virginica'),\n",
       "       ( 6.7,  3.3,  5.7,  2.1, b'virginica'),\n",
       "       ( 7.2,  3.2,  6. ,  1.8, b'virginica'),\n",
       "       ( 6.2,  2.8,  4.8,  1.8, b'virginica'),\n",
       "       ( 6.1,  3. ,  4.9,  1.8, b'virginica'),\n",
       "       ( 6.4,  2.8,  5.6,  2.1, b'virginica'),\n",
       "       ( 7.2,  3. ,  5.8,  1.6, b'virginica'),\n",
       "       ( 7.4,  2.8,  6.1,  1.9, b'virginica'),\n",
       "       ( 7.9,  3.8,  6.4,  2. , b'virginica'),\n",
       "       ( 6.4,  2.8,  5.6,  2.2, b'virginica'),\n",
       "       ( 6.3,  2.8,  5.1,  1.5, b'virginica')], \n",
       "      dtype=[('f0', '<f8'), ('f1', '<f8'), ('f2', '<f8'), ('f3', '<f8'), ('f4', 'S10')])"
      ]
     },
     "execution_count": 11,
     "metadata": {},
     "output_type": "execute_result"
    }
   ],
   "source": [
    "iris_data"
   ]
  }
 ],
 "metadata": {
  "kernelspec": {
   "display_name": "Python 3",
   "language": "python",
   "name": "python3"
  },
  "language_info": {
   "codemirror_mode": {
    "name": "ipython",
    "version": 3
   },
   "file_extension": ".py",
   "mimetype": "text/x-python",
   "name": "python",
   "nbconvert_exporter": "python",
   "pygments_lexer": "ipython3",
   "version": "3.6.1"
  }
 },
 "nbformat": 4,
 "nbformat_minor": 2
}
